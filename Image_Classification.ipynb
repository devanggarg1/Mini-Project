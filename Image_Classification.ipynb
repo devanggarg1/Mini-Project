{
  "nbformat": 4,
  "nbformat_minor": 0,
  "metadata": {
    "colab": {
      "name": "Image Classification.ipynb",
      "provenance": [],
      "authorship_tag": "ABX9TyPuxsj0w59QL9rviK18MuMM",
      "include_colab_link": true
    },
    "kernelspec": {
      "name": "python3",
      "display_name": "Python 3"
    },
    "language_info": {
      "name": "python"
    }
  },
  "cells": [
    {
      "cell_type": "markdown",
      "metadata": {
        "id": "view-in-github",
        "colab_type": "text"
      },
      "source": [
        "<a href=\"https://colab.research.google.com/github/devanggarg1/Mini-Project/blob/main/Image_Classification.ipynb\" target=\"_parent\"><img src=\"https://colab.research.google.com/assets/colab-badge.svg\" alt=\"Open In Colab\"/></a>"
      ]
    },
    {
      "cell_type": "code",
      "metadata": {
        "colab": {
          "base_uri": "https://localhost:8080/"
        },
        "id": "tfFeHLxVqCyd",
        "outputId": "5ff2a54d-1667-4f62-8e60-408f8a75f4cd"
      },
      "source": [
        "!pip install ipython-autotime\n",
        "%load_ext autotime"
      ],
      "execution_count": 7,
      "outputs": [
        {
          "output_type": "stream",
          "text": [
            "Collecting ipython-autotime\n",
            "  Downloading https://files.pythonhosted.org/packages/b4/c9/b413a24f759641bc27ef98c144b590023c8038dfb8a3f09e713e9dff12c1/ipython_autotime-0.3.1-py2.py3-none-any.whl\n",
            "Requirement already satisfied: ipython in /usr/local/lib/python3.7/dist-packages (from ipython-autotime) (5.5.0)\n",
            "Requirement already satisfied: pexpect; sys_platform != \"win32\" in /usr/local/lib/python3.7/dist-packages (from ipython->ipython-autotime) (4.8.0)\n",
            "Requirement already satisfied: simplegeneric>0.8 in /usr/local/lib/python3.7/dist-packages (from ipython->ipython-autotime) (0.8.1)\n",
            "Requirement already satisfied: setuptools>=18.5 in /usr/local/lib/python3.7/dist-packages (from ipython->ipython-autotime) (56.0.0)\n",
            "Requirement already satisfied: traitlets>=4.2 in /usr/local/lib/python3.7/dist-packages (from ipython->ipython-autotime) (5.0.5)\n",
            "Requirement already satisfied: decorator in /usr/local/lib/python3.7/dist-packages (from ipython->ipython-autotime) (4.4.2)\n",
            "Requirement already satisfied: pygments in /usr/local/lib/python3.7/dist-packages (from ipython->ipython-autotime) (2.6.1)\n",
            "Requirement already satisfied: pickleshare in /usr/local/lib/python3.7/dist-packages (from ipython->ipython-autotime) (0.7.5)\n",
            "Requirement already satisfied: prompt-toolkit<2.0.0,>=1.0.4 in /usr/local/lib/python3.7/dist-packages (from ipython->ipython-autotime) (1.0.18)\n",
            "Requirement already satisfied: ptyprocess>=0.5 in /usr/local/lib/python3.7/dist-packages (from pexpect; sys_platform != \"win32\"->ipython->ipython-autotime) (0.7.0)\n",
            "Requirement already satisfied: ipython-genutils in /usr/local/lib/python3.7/dist-packages (from traitlets>=4.2->ipython->ipython-autotime) (0.2.0)\n",
            "Requirement already satisfied: wcwidth in /usr/local/lib/python3.7/dist-packages (from prompt-toolkit<2.0.0,>=1.0.4->ipython->ipython-autotime) (0.2.5)\n",
            "Requirement already satisfied: six>=1.9.0 in /usr/local/lib/python3.7/dist-packages (from prompt-toolkit<2.0.0,>=1.0.4->ipython->ipython-autotime) (1.15.0)\n",
            "Installing collected packages: ipython-autotime\n",
            "Successfully installed ipython-autotime-0.3.1\n",
            "time: 143 µs (started: 2021-05-06 03:11:32 +00:00)\n"
          ],
          "name": "stdout"
        }
      ]
    },
    {
      "cell_type": "code",
      "metadata": {
        "colab": {
          "base_uri": "https://localhost:8080/"
        },
        "id": "WEn3OxBbjv1W",
        "outputId": "d34b9710-c88d-4cbb-ba2c-bf533db4da1b"
      },
      "source": [
        "!pip install bing-image-downloader"
      ],
      "execution_count": 2,
      "outputs": [
        {
          "output_type": "stream",
          "text": [
            "Collecting bing-image-downloader\n",
            "  Downloading https://files.pythonhosted.org/packages/0d/bf/537a61030b84ae4cd5022d5c7b014fd9bc3ce7c02358919153a6658a61d3/bing_image_downloader-1.0.4-py3-none-any.whl\n",
            "Installing collected packages: bing-image-downloader\n",
            "Successfully installed bing-image-downloader-1.0.4\n"
          ],
          "name": "stdout"
        }
      ]
    },
    {
      "cell_type": "code",
      "metadata": {
        "id": "qHQBt3dHncZu"
      },
      "source": [
        "!mkdir images"
      ],
      "execution_count": 3,
      "outputs": []
    },
    {
      "cell_type": "code",
      "metadata": {
        "colab": {
          "base_uri": "https://localhost:8080/"
        },
        "id": "vLuSNXfwngUT",
        "outputId": "47f625c7-1a7a-4e4a-e1ba-a393fc87f31f"
      },
      "source": [
        "from bing_image_downloader import downloader\n",
        "downloader.download(\"pretty sunflower\",limit=30,output_dir='images',adult_filter_off=True)"
      ],
      "execution_count": 4,
      "outputs": [
        {
          "output_type": "stream",
          "text": [
            "\n",
            "\n",
            "[!!]Indexing page: 1\n",
            "\n",
            "[%] Indexed 12 Images on Page 1.\n",
            "\n",
            "===============================================\n",
            "\n",
            "[%] Downloading Image #1 from https://66.media.tumblr.com/44d35612a2a7601c2f8c8d35cf820193/tumblr_nqalbc4ywM1rwrn5zo1_500.jpg\n",
            "[%] File Downloaded !\n",
            "\n",
            "[%] Downloading Image #2 from https://i.pinimg.com/736x/21/c8/e2/21c8e2c6a8ccbdd74c5cf5ffd1b388c6.jpg\n",
            "[%] File Downloaded !\n",
            "\n",
            "[%] Downloading Image #3 from http://services.autoclubmo.aaa.com/traveler/images/2014/07/Janice_Poole_Sunflower.jpg\n",
            "[%] File Downloaded !\n",
            "\n",
            "[%] Downloading Image #4 from http://www.prettydesigns.com/wp-content/uploads/2014/06/Green-Nails2.jpg\n",
            "[%] File Downloaded !\n",
            "\n",
            "[%] Downloading Image #5 from https://i.pinimg.com/736x/0e/b5/63/0eb5635680546f8bb7bc618ad0e55489.jpg\n",
            "[%] File Downloaded !\n",
            "\n",
            "[%] Downloading Image #6 from https://i.pinimg.com/736x/49/7b/d5/497bd55f180f61f0eb1d49162b808fbd.jpg\n",
            "[%] File Downloaded !\n",
            "\n",
            "[%] Downloading Image #7 from https://i.pinimg.com/736x/09/80/ac/0980ac563d88b546bdf9ce93e0c54ccf--preschool-printables-preschool-crafts.jpg\n",
            "[%] File Downloaded !\n",
            "\n",
            "[%] Downloading Image #8 from https://emmalovesweddings.com/wp-content/uploads/2019/08/sunflower-themed-wedding-cake-ideas.jpg\n",
            "[%] File Downloaded !\n",
            "\n",
            "[%] Downloading Image #9 from https://www.prettydesigns.com/wp-content/uploads/2014/11/Flower-Tattoo1.jpg\n",
            "[%] File Downloaded !\n",
            "\n",
            "[%] Downloading Image #10 from http://4.bp.blogspot.com/-vfYZKLdB6kI/T2Qpd7IO3FI/AAAAAAAAPto/kotbsMlFFdI/s1600/Flower-Back-Tattoo-For-Women.jpg\n",
            "[%] File Downloaded !\n",
            "\n",
            "[%] Downloading Image #11 from https://i.pinimg.com/736x/0b/42/9f/0b429f77b547385793a5f221c8f33b9c.jpg\n",
            "[%] File Downloaded !\n",
            "\n",
            "[%] Downloading Image #12 from http://www.saphireeventgroup.com/wp-content/uploads/files/6314/0916/2507/colorful_bridal_bouquets_6.jpg\n",
            "[%] File Downloaded !\n",
            "\n",
            "\n",
            "\n",
            "[!!]Indexing page: 2\n",
            "\n",
            "[%] Indexed 12 Images on Page 2.\n",
            "\n",
            "===============================================\n",
            "\n",
            "[%] Downloading Image #13 from https://66.media.tumblr.com/44d35612a2a7601c2f8c8d35cf820193/tumblr_nqalbc4ywM1rwrn5zo1_500.jpg\n",
            "[%] File Downloaded !\n",
            "\n",
            "[%] Downloading Image #14 from https://i.pinimg.com/736x/21/c8/e2/21c8e2c6a8ccbdd74c5cf5ffd1b388c6.jpg\n",
            "[%] File Downloaded !\n",
            "\n",
            "[%] Downloading Image #15 from http://www.saphireeventgroup.com/wp-content/uploads/files/6314/0916/2507/colorful_bridal_bouquets_6.jpg\n",
            "[%] File Downloaded !\n",
            "\n",
            "[%] Downloading Image #16 from http://services.autoclubmo.aaa.com/traveler/images/2014/07/Janice_Poole_Sunflower.jpg\n",
            "[%] File Downloaded !\n",
            "\n",
            "[%] Downloading Image #17 from http://www.prettydesigns.com/wp-content/uploads/2014/06/Green-Nails2.jpg\n",
            "[%] File Downloaded !\n",
            "\n",
            "[%] Downloading Image #18 from http://4.bp.blogspot.com/-vfYZKLdB6kI/T2Qpd7IO3FI/AAAAAAAAPto/kotbsMlFFdI/s1600/Flower-Back-Tattoo-For-Women.jpg\n",
            "[%] File Downloaded !\n",
            "\n",
            "[%] Downloading Image #19 from https://i.pinimg.com/736x/49/7b/d5/497bd55f180f61f0eb1d49162b808fbd.jpg\n",
            "[%] File Downloaded !\n",
            "\n",
            "[%] Downloading Image #20 from https://i.pinimg.com/736x/0e/b5/63/0eb5635680546f8bb7bc618ad0e55489.jpg\n",
            "[%] File Downloaded !\n",
            "\n",
            "[%] Downloading Image #21 from https://emmalovesweddings.com/wp-content/uploads/2019/08/sunflower-themed-wedding-cake-ideas.jpg\n",
            "[%] File Downloaded !\n",
            "\n",
            "[%] Downloading Image #22 from https://www.prettydesigns.com/wp-content/uploads/2014/11/Flower-Tattoo1.jpg\n",
            "[%] File Downloaded !\n",
            "\n",
            "[%] Downloading Image #23 from https://i.pinimg.com/736x/0b/42/9f/0b429f77b547385793a5f221c8f33b9c.jpg\n",
            "[%] File Downloaded !\n",
            "\n",
            "[%] Downloading Image #24 from https://i.pinimg.com/736x/09/80/ac/0980ac563d88b546bdf9ce93e0c54ccf--preschool-printables-preschool-crafts.jpg\n",
            "[%] File Downloaded !\n",
            "\n",
            "\n",
            "\n",
            "[!!]Indexing page: 3\n",
            "\n",
            "[%] Indexed 11 Images on Page 3.\n",
            "\n",
            "===============================================\n",
            "\n",
            "[%] Downloading Image #25 from http://services.autoclubmo.aaa.com/traveler/images/2014/07/Janice_Poole_Sunflower.jpg\n",
            "[%] File Downloaded !\n",
            "\n",
            "[%] Downloading Image #26 from https://www.prettydesigns.com/wp-content/uploads/2014/11/Flower-Tattoo1.jpg\n",
            "[%] File Downloaded !\n",
            "\n",
            "[%] Downloading Image #27 from http://4.bp.blogspot.com/-vfYZKLdB6kI/T2Qpd7IO3FI/AAAAAAAAPto/kotbsMlFFdI/s1600/Flower-Back-Tattoo-For-Women.jpg\n",
            "[%] File Downloaded !\n",
            "\n",
            "[%] Downloading Image #28 from https://i.pinimg.com/736x/49/7b/d5/497bd55f180f61f0eb1d49162b808fbd.jpg\n",
            "[%] File Downloaded !\n",
            "\n",
            "[%] Downloading Image #29 from https://i.pinimg.com/736x/0e/b5/63/0eb5635680546f8bb7bc618ad0e55489.jpg\n",
            "[%] File Downloaded !\n",
            "\n",
            "[%] Downloading Image #30 from https://emmalovesweddings.com/wp-content/uploads/2019/08/sunflower-themed-wedding-cake-ideas.jpg\n",
            "[%] File Downloaded !\n",
            "\n",
            "\n",
            "\n",
            "[%] Done. Downloaded 30 images.\n",
            "\n",
            "===============================================\n",
            "\n"
          ],
          "name": "stdout"
        }
      ]
    },
    {
      "cell_type": "code",
      "metadata": {
        "colab": {
          "base_uri": "https://localhost:8080/"
        },
        "id": "W2hWuXz_oN6P",
        "outputId": "b7bfa13f-5dc4-41b6-bf74-228023a1bc7a"
      },
      "source": [
        "downloader.download(\"rugby ball leather\",limit=30,output_dir='images',adult_filter_off=True)"
      ],
      "execution_count": 5,
      "outputs": [
        {
          "output_type": "stream",
          "text": [
            "\n",
            "\n",
            "[!!]Indexing page: 1\n",
            "\n",
            "[%] Indexed 12 Images on Page 1.\n",
            "\n",
            "===============================================\n",
            "\n",
            "[%] Downloading Image #1 from https://cdn.notonthehighstreet.com/system/product_images/images/000/393/351/original_CF016852.jpg\n",
            "[%] File Downloaded !\n",
            "\n",
            "[%] Downloading Image #2 from http://cdn.shopify.com/s/files/1/0788/5979/products/mvp-leather-balls-heritage-leather-rugby-ball-1_1024x1024.jpg?v=1550134680\n",
            "[%] File Downloaded !\n",
            "\n",
            "[%] Downloading Image #3 from https://images.antiquesatlas.com/dealer-stock-images/puckeringsantiques/Antique_Novelty_Travel_Inkwell_as584a1568z-3.jpg\n",
            "[%] File Downloaded !\n",
            "\n",
            "[%] Downloading Image #4 from https://www.john-woodbridge.com/1536-tm_large_default/leather-vintage-football-allen-1938.jpg\n",
            "[%] File Downloaded !\n",
            "\n",
            "[%] Downloading Image #5 from https://cdn.thinglink.me/api/image/586569159714799617/1240/10/scaletowidth\n",
            "[%] File Downloaded !\n",
            "\n",
            "[%] Downloading Image #6 from https://www.upfrontcricket.com/media/catalog/product/cache/1/image/9df78eab33525d08d6e5fb8d27136e95/j/n/jnrclub_cb_edited-2.jpg\n",
            "[%] File Downloaded !\n",
            "\n",
            "[%] Downloading Image #7 from https://www.topranksport.co.uk/ekmps/shops/2d9dfa/images/tuf-wear-boxing-classic-brown-leather-wrecking-ball-large-maize-punch-bag-466719-p.jpg\n",
            "[%] File Downloaded !\n",
            "\n",
            "[%] Downloading Image #8 from http://www.upfrontcricket.com/media/catalog/product/cache/1/image/9df78eab33525d08d6e5fb8d27136e95/j/n/jnrleague_cb_edited-2.jpg\n",
            "[%] File Downloaded !\n",
            "\n",
            "[%] Downloading Image #9 from https://cdn.shopify.com/s/files/1/0226/2169/products/Gold_2048x2048_V1_1024x1024.jpg?v=1546620200\n",
            "[%] File Downloaded !\n",
            "\n",
            "[%] Downloading Image #10 from https://www.prodirectrugby.com/productimages/V3_1_Main/82143.jpg\n",
            "[!] Issue getting: https://www.prodirectrugby.com/productimages/V3_1_Main/82143.jpg\n",
            "[!] Error:: HTTP Error 403: Forbidden\n",
            "[%] Downloading Image #10 from https://www.prodirectrugby.com/productimages/V3_1_Main/201596_Main_Thumb_0419944.jpg\n",
            "[!] Issue getting: https://www.prodirectrugby.com/productimages/V3_1_Main/201596_Main_Thumb_0419944.jpg\n",
            "[!] Error:: HTTP Error 403: Forbidden\n",
            "[%] Downloading Image #10 from https://www.prodirectrugby.com/productimages/V3_1_Main/54935.jpg\n",
            "[!] Issue getting: https://www.prodirectrugby.com/productimages/V3_1_Main/54935.jpg\n",
            "[!] Error:: HTTP Error 403: Forbidden\n",
            "\n",
            "\n",
            "[!!]Indexing page: 2\n",
            "\n",
            "[%] Indexed 12 Images on Page 2.\n",
            "\n",
            "===============================================\n",
            "\n",
            "[%] Downloading Image #10 from https://cdn.notonthehighstreet.com/system/product_images/images/000/393/351/original_CF016852.jpg\n",
            "[%] File Downloaded !\n",
            "\n",
            "[%] Downloading Image #11 from http://cdn.shopify.com/s/files/1/0788/5979/products/mvp-leather-balls-heritage-leather-rugby-ball-1_1024x1024.jpg?v=1550134680\n",
            "[%] File Downloaded !\n",
            "\n",
            "[%] Downloading Image #12 from https://images.antiquesatlas.com/dealer-stock-images/puckeringsantiques/Antique_Novelty_Travel_Inkwell_as584a1568z-3.jpg\n",
            "[%] File Downloaded !\n",
            "\n",
            "[%] Downloading Image #13 from https://www.john-woodbridge.com/1536-tm_large_default/leather-vintage-football-allen-1938.jpg\n",
            "[%] File Downloaded !\n",
            "\n",
            "[%] Downloading Image #14 from https://cdn.thinglink.me/api/image/586569159714799617/1240/10/scaletowidth\n",
            "[%] File Downloaded !\n",
            "\n",
            "[%] Downloading Image #15 from https://www.upfrontcricket.com/media/catalog/product/cache/1/image/9df78eab33525d08d6e5fb8d27136e95/j/n/jnrclub_cb_edited-2.jpg\n",
            "[%] File Downloaded !\n",
            "\n",
            "[%] Downloading Image #16 from https://www.topranksport.co.uk/ekmps/shops/2d9dfa/images/tuf-wear-boxing-classic-brown-leather-wrecking-ball-large-maize-punch-bag-466719-p.jpg\n",
            "[%] File Downloaded !\n",
            "\n",
            "[%] Downloading Image #17 from http://www.upfrontcricket.com/media/catalog/product/cache/1/image/9df78eab33525d08d6e5fb8d27136e95/j/n/jnrleague_cb_edited-2.jpg\n",
            "[%] File Downloaded !\n",
            "\n",
            "[%] Downloading Image #18 from https://cdn.shopify.com/s/files/1/0226/2169/products/Gold_2048x2048_V1_1024x1024.jpg?v=1546620200\n",
            "[%] File Downloaded !\n",
            "\n",
            "[%] Downloading Image #19 from https://www.prodirectrugby.com/productimages/V3_1_Main/82143.jpg\n",
            "[!] Issue getting: https://www.prodirectrugby.com/productimages/V3_1_Main/82143.jpg\n",
            "[!] Error:: HTTP Error 403: Forbidden\n",
            "[%] Downloading Image #19 from https://www.prodirectrugby.com/productimages/V3_1_Main/201596_Main_Thumb_0419944.jpg\n",
            "[!] Issue getting: https://www.prodirectrugby.com/productimages/V3_1_Main/201596_Main_Thumb_0419944.jpg\n",
            "[!] Error:: HTTP Error 403: Forbidden\n",
            "[%] Downloading Image #19 from https://www.prodirectrugby.com/productimages/V3_1_Main/54935.jpg\n",
            "[!] Issue getting: https://www.prodirectrugby.com/productimages/V3_1_Main/54935.jpg\n",
            "[!] Error:: HTTP Error 403: Forbidden\n",
            "\n",
            "\n",
            "[!!]Indexing page: 3\n",
            "\n",
            "[%] Indexed 11 Images on Page 3.\n",
            "\n",
            "===============================================\n",
            "\n",
            "[%] Downloading Image #19 from http://cdn.shopify.com/s/files/1/0788/5979/products/mvp-leather-balls-heritage-leather-rugby-ball-1_1024x1024.jpg?v=1550134680\n",
            "[%] File Downloaded !\n",
            "\n",
            "[%] Downloading Image #20 from https://images.antiquesatlas.com/dealer-stock-images/puckeringsantiques/Antique_Novelty_Travel_Inkwell_as584a1568z-3.jpg\n",
            "[%] File Downloaded !\n",
            "\n",
            "[%] Downloading Image #21 from https://www.john-woodbridge.com/1536-tm_large_default/leather-vintage-football-allen-1938.jpg\n",
            "[%] File Downloaded !\n",
            "\n",
            "[%] Downloading Image #22 from https://cdn.thinglink.me/api/image/586569159714799617/1240/10/scaletowidth\n",
            "[%] File Downloaded !\n",
            "\n",
            "[%] Downloading Image #23 from https://www.upfrontcricket.com/media/catalog/product/cache/1/image/9df78eab33525d08d6e5fb8d27136e95/j/n/jnrclub_cb_edited-2.jpg\n",
            "[%] File Downloaded !\n",
            "\n",
            "[%] Downloading Image #24 from https://www.topranksport.co.uk/ekmps/shops/2d9dfa/images/tuf-wear-boxing-classic-brown-leather-wrecking-ball-large-maize-punch-bag-466719-p.jpg\n",
            "[%] File Downloaded !\n",
            "\n",
            "[%] Downloading Image #25 from http://www.upfrontcricket.com/media/catalog/product/cache/1/image/9df78eab33525d08d6e5fb8d27136e95/j/n/jnrleague_cb_edited-2.jpg\n",
            "[%] File Downloaded !\n",
            "\n",
            "[%] Downloading Image #26 from https://cdn.shopify.com/s/files/1/0226/2169/products/Gold_2048x2048_V1_1024x1024.jpg?v=1546620200\n",
            "[%] File Downloaded !\n",
            "\n",
            "[%] Downloading Image #27 from https://www.prodirectrugby.com/productimages/V3_1_Main/82143.jpg\n",
            "[!] Issue getting: https://www.prodirectrugby.com/productimages/V3_1_Main/82143.jpg\n",
            "[!] Error:: HTTP Error 403: Forbidden\n",
            "[%] Downloading Image #27 from https://www.prodirectrugby.com/productimages/V3_1_Main/201596_Main_Thumb_0419944.jpg\n",
            "[!] Issue getting: https://www.prodirectrugby.com/productimages/V3_1_Main/201596_Main_Thumb_0419944.jpg\n",
            "[!] Error:: HTTP Error 403: Forbidden\n",
            "[%] Downloading Image #27 from https://www.prodirectrugby.com/productimages/V3_1_Main/54935.jpg\n",
            "[!] Issue getting: https://www.prodirectrugby.com/productimages/V3_1_Main/54935.jpg\n",
            "[!] Error:: HTTP Error 403: Forbidden\n",
            "\n",
            "\n",
            "[!!]Indexing page: 4\n",
            "\n",
            "[%] Indexed 10 Images on Page 4.\n",
            "\n",
            "===============================================\n",
            "\n",
            "[%] Downloading Image #27 from https://images.antiquesatlas.com/dealer-stock-images/puckeringsantiques/Antique_Novelty_Travel_Inkwell_as584a1568z-3.jpg\n",
            "[%] File Downloaded !\n",
            "\n",
            "[%] Downloading Image #28 from https://www.john-woodbridge.com/1536-tm_large_default/leather-vintage-football-allen-1938.jpg\n",
            "[%] File Downloaded !\n",
            "\n",
            "[%] Downloading Image #29 from https://cdn.thinglink.me/api/image/586569159714799617/1240/10/scaletowidth\n",
            "[%] File Downloaded !\n",
            "\n",
            "[%] Downloading Image #30 from https://www.upfrontcricket.com/media/catalog/product/cache/1/image/9df78eab33525d08d6e5fb8d27136e95/j/n/jnrclub_cb_edited-2.jpg\n",
            "[%] File Downloaded !\n",
            "\n",
            "\n",
            "\n",
            "[%] Done. Downloaded 30 images.\n",
            "\n",
            "===============================================\n",
            "\n"
          ],
          "name": "stdout"
        }
      ]
    },
    {
      "cell_type": "code",
      "metadata": {
        "colab": {
          "base_uri": "https://localhost:8080/"
        },
        "id": "Yvh7nlOio-od",
        "outputId": "0c9bf912-780f-4710-becf-60108e0e4c9d"
      },
      "source": [
        "downloader.download(\"ice cream cone\",limit=30,output_dir='images',adult_filter_off=True)"
      ],
      "execution_count": 6,
      "outputs": [
        {
          "output_type": "stream",
          "text": [
            "\n",
            "\n",
            "[!!]Indexing page: 1\n",
            "\n",
            "[%] Indexed 11 Images on Page 1.\n",
            "\n",
            "===============================================\n",
            "\n",
            "[%] Downloading Image #1 from https://cdn001.cakecentral.com/gallery/2017/07/900_melting-ice-cream-cone-997041mFIfl.jpg\n",
            "[%] File Downloaded !\n",
            "\n",
            "[%] Downloading Image #2 from https://www.barnorama.com/wp-content/uploads/2018/12/Funny-Pictures-1904-72.jpg\n",
            "[%] File Downloaded !\n",
            "\n",
            "[%] Downloading Image #3 from https://littlebitsof.com/wp-content/uploads/2014/04/DSC_0131.jpg\n",
            "[%] File Downloaded !\n",
            "\n",
            "[%] Downloading Image #4 from https://media.istockphoto.com/photos/melting-ice-cream-cone-picture-id1007165770?k=6&amp;m=1007165770&amp;s=170667a&amp;w=0&amp;h=VlX1UdiHoBsDpdYszyHEpusCA9Ia0GbsPwBNq3BN1Jg=\n",
            "[%] File Downloaded !\n",
            "\n",
            "[%] Downloading Image #5 from http://akns-images.eonline.com/eol_images/Entire_Site/2014910/rs_300x300-141010052310-600.Joe-Biden-JR-101014.jpg?downsize=600:315\n",
            "[%] File Downloaded !\n",
            "\n",
            "[%] Downloading Image #6 from https://family.disney.com/wp-content/uploads/2018/07/icecream-wallpaper-2.jpg\n",
            "[Error]Invalid image, not saving https://family.disney.com/wp-content/uploads/2018/07/icecream-wallpaper-2.jpg\n",
            "\n",
            "[!] Issue getting: https://family.disney.com/wp-content/uploads/2018/07/icecream-wallpaper-2.jpg\n",
            "[!] Error:: No active exception to reraise\n",
            "[%] Downloading Image #6 from https://thedecoratedcookie.com/wp-content/uploads/2016/06/ice-cream1.jpg\n",
            "[%] File Downloaded !\n",
            "\n",
            "[%] Downloading Image #7 from http://bestanimations.com/Food/ice-pop-animated-gif.gif\n",
            "[%] File Downloaded !\n",
            "\n",
            "[%] Downloading Image #8 from https://www.bing.com/th/id/OGC.73a5f1d5300bf4d6af5f7b3c2218dddc?pid=1.7&amp;rurl=http%3a%2f%2fbestanimations.com%2fFood%2fice-pop-animated-gif.gif&amp;ehk=2%2fDqe65TV5uyW8cpgPEtqq2hVzMxym8Y5iegGSRgfPA%3d\n",
            "[!] Issue getting: https://www.bing.com/th/id/OGC.73a5f1d5300bf4d6af5f7b3c2218dddc?pid=1.7&amp;rurl=http%3a%2f%2fbestanimations.com%2fFood%2fice-pop-animated-gif.gif&amp;ehk=2%2fDqe65TV5uyW8cpgPEtqq2hVzMxym8Y5iegGSRgfPA%3d\n",
            "[!] Error:: HTTP Error 404: Not Found\n",
            "[%] Downloading Image #8 from https://i.pinimg.com/736x/df/b6/56/dfb65693ec83f9370241552d194b10ba--waffle-cones-chocolate-waffles.jpg\n",
            "[%] File Downloaded !\n",
            "\n",
            "[%] Downloading Image #9 from https://i.pinimg.com/736x/9a/00/4a/9a004afa9e1ae3371210ce07b4aaaf58--soft-serve-fake-food.jpg\n",
            "[%] File Downloaded !\n",
            "\n",
            "\n",
            "\n",
            "[!!]Indexing page: 2\n",
            "\n",
            "[%] Indexed 12 Images on Page 2.\n",
            "\n",
            "===============================================\n",
            "\n",
            "[%] Downloading Image #10 from http://media.blogto.com/articles/20170419-hollywoodcone-15.jpg?width=1300&amp;quality=70\n",
            "[%] File Downloaded !\n",
            "\n",
            "[%] Downloading Image #11 from https://i.pinimg.com/736x/bc/9f/95/bc9f9537ab77c67c16ec7ea54aaeae90.jpg\n",
            "[%] File Downloaded !\n",
            "\n",
            "[%] Downloading Image #12 from http://pixel.nymag.com/imgs/daily/grub/2014/07/16/16-ample-hills-gowanus-3.w245.h368.2x.jpg\n",
            "[Error]Invalid image, not saving http://pixel.nymag.com/imgs/daily/grub/2014/07/16/16-ample-hills-gowanus-3.w245.h368.2x.jpg\n",
            "\n",
            "[!] Issue getting: http://pixel.nymag.com/imgs/daily/grub/2014/07/16/16-ample-hills-gowanus-3.w245.h368.2x.jpg\n",
            "[!] Error:: No active exception to reraise\n",
            "[%] Downloading Image #12 from https://www.featurepics.com/StockImage/20070609/hand-holding-ice-cream-cone-stock-picture-343562.jpg\n",
            "[%] File Downloaded !\n",
            "\n",
            "[%] Downloading Image #13 from https://www.finewebstores.com/thumbnail.asp?file=assets/images/metalsigns/foodbeverage/98016-classic-99.jpg&amp;maxx=300&amp;maxy=0\n",
            "[%] File Downloaded !\n",
            "\n",
            "[%] Downloading Image #14 from http://onlyinark.com/wp-content/uploads/2017/05/Best-Ice-Cream-in-Arkansas-Featured-Image.png\n",
            "[%] File Downloaded !\n",
            "\n",
            "[%] Downloading Image #15 from https://www.benandjerry.com.au/files/live/sites/systemsite/files/scoop-shops/free-cone-day/2019/og images/FCD-2019-OGb-1200x630-AU.jpg\n",
            "[!] Issue getting: https://www.benandjerry.com.au/files/live/sites/systemsite/files/scoop-shops/free-cone-day/2019/og images/FCD-2019-OGb-1200x630-AU.jpg\n",
            "[!] Error:: URL can't contain control characters. '/files/live/sites/systemsite/files/scoop-shops/free-cone-day/2019/og images/FCD-2019-OGb-1200x630-AU.jpg' (found at least ' ')\n",
            "[%] Downloading Image #15 from https://c2.staticflickr.com/4/3357/4602700664_6d9473e26c_b.jpg\n",
            "[%] File Downloaded !\n",
            "\n",
            "[%] Downloading Image #16 from https://thumbs.dreamstime.com/x/girl-water-ice-cream-licking-isolated-white-35359160.jpg\n",
            "[!] Issue getting: https://thumbs.dreamstime.com/x/girl-water-ice-cream-licking-isolated-white-35359160.jpg\n",
            "[!] Error:: HTTP Error 404: Not Found\n",
            "[%] Downloading Image #16 from https://www.guinnessworldrecords.com/Images/Most-ice-cream-scoops-balanced-on-a-cone-header_tcm25-387618.jpg\n",
            "[%] File Downloaded !\n",
            "\n",
            "[%] Downloading Image #17 from http://spoonssquared.com/wp-content/uploads/2014/07/Hold-The-Cone-Mini-Ice-Cream-Cones.jpg\n",
            "[%] File Downloaded !\n",
            "\n",
            "[%] Downloading Image #18 from http://farm4.staticflickr.com/3657/3363317318_b1f097dd29.jpg\n",
            "[Error]Invalid image, not saving http://farm4.staticflickr.com/3657/3363317318_b1f097dd29.jpg\n",
            "\n",
            "[!] Issue getting: http://farm4.staticflickr.com/3657/3363317318_b1f097dd29.jpg\n",
            "[!] Error:: No active exception to reraise\n",
            "\n",
            "\n",
            "[!!]Indexing page: 3\n",
            "\n",
            "[%] Indexed 11 Images on Page 3.\n",
            "\n",
            "===============================================\n",
            "\n",
            "[%] Downloading Image #18 from https://www.featurepics.com/StockImage/20070609/hand-holding-ice-cream-cone-stock-picture-343562.jpg\n",
            "[%] File Downloaded !\n",
            "\n",
            "[%] Downloading Image #19 from https://www.finewebstores.com/thumbnail.asp?file=assets/images/metalsigns/foodbeverage/98016-classic-99.jpg&amp;maxx=300&amp;maxy=0\n",
            "[%] File Downloaded !\n",
            "\n",
            "[%] Downloading Image #20 from http://onlyinark.com/wp-content/uploads/2017/05/Best-Ice-Cream-in-Arkansas-Featured-Image.png\n",
            "[%] File Downloaded !\n",
            "\n",
            "[%] Downloading Image #21 from http://spoonssquared.com/wp-content/uploads/2014/07/Hold-The-Cone-Mini-Ice-Cream-Cones.jpg\n",
            "[%] File Downloaded !\n",
            "\n",
            "[%] Downloading Image #22 from http://farm4.staticflickr.com/3657/3363317318_b1f097dd29.jpg\n",
            "[Error]Invalid image, not saving http://farm4.staticflickr.com/3657/3363317318_b1f097dd29.jpg\n",
            "\n",
            "[!] Issue getting: http://farm4.staticflickr.com/3657/3363317318_b1f097dd29.jpg\n",
            "[!] Error:: No active exception to reraise\n",
            "[%] Downloading Image #22 from https://c2.staticflickr.com/4/3357/4602700664_6d9473e26c_b.jpg\n",
            "[%] File Downloaded !\n",
            "\n",
            "[%] Downloading Image #23 from https://thumbs.dreamstime.com/x/girl-water-ice-cream-licking-isolated-white-35359160.jpg\n",
            "[!] Issue getting: https://thumbs.dreamstime.com/x/girl-water-ice-cream-licking-isolated-white-35359160.jpg\n",
            "[!] Error:: HTTP Error 404: Not Found\n",
            "[%] Downloading Image #23 from https://www.guinnessworldrecords.com/Images/Most-ice-cream-scoops-balanced-on-a-cone-header_tcm25-387618.jpg\n",
            "[%] File Downloaded !\n",
            "\n",
            "[%] Downloading Image #24 from https://i.pinimg.com/736x/bc/9f/95/bc9f9537ab77c67c16ec7ea54aaeae90.jpg\n",
            "[%] File Downloaded !\n",
            "\n",
            "[%] Downloading Image #25 from http://pixel.nymag.com/imgs/daily/grub/2014/07/16/16-ample-hills-gowanus-3.w245.h368.2x.jpg\n",
            "[Error]Invalid image, not saving http://pixel.nymag.com/imgs/daily/grub/2014/07/16/16-ample-hills-gowanus-3.w245.h368.2x.jpg\n",
            "\n",
            "[!] Issue getting: http://pixel.nymag.com/imgs/daily/grub/2014/07/16/16-ample-hills-gowanus-3.w245.h368.2x.jpg\n",
            "[!] Error:: No active exception to reraise\n",
            "[%] Downloading Image #25 from https://www.benandjerry.com.au/files/live/sites/systemsite/files/scoop-shops/free-cone-day/2019/og images/FCD-2019-OGb-1200x630-AU.jpg\n",
            "[!] Issue getting: https://www.benandjerry.com.au/files/live/sites/systemsite/files/scoop-shops/free-cone-day/2019/og images/FCD-2019-OGb-1200x630-AU.jpg\n",
            "[!] Error:: URL can't contain control characters. '/files/live/sites/systemsite/files/scoop-shops/free-cone-day/2019/og images/FCD-2019-OGb-1200x630-AU.jpg' (found at least ' ')\n",
            "\n",
            "\n",
            "[!!]Indexing page: 4\n",
            "\n",
            "[%] Indexed 10 Images on Page 4.\n",
            "\n",
            "===============================================\n",
            "\n",
            "[%] Downloading Image #25 from http://onlyinark.com/wp-content/uploads/2017/05/Best-Ice-Cream-in-Arkansas-Featured-Image.png\n",
            "[%] File Downloaded !\n",
            "\n",
            "[%] Downloading Image #26 from https://c2.staticflickr.com/4/3357/4602700664_6d9473e26c_b.jpg\n",
            "[%] File Downloaded !\n",
            "\n",
            "[%] Downloading Image #27 from http://pixel.nymag.com/imgs/daily/grub/2014/07/16/16-ample-hills-gowanus-3.w245.h368.2x.jpg\n",
            "[Error]Invalid image, not saving http://pixel.nymag.com/imgs/daily/grub/2014/07/16/16-ample-hills-gowanus-3.w245.h368.2x.jpg\n",
            "\n",
            "[!] Issue getting: http://pixel.nymag.com/imgs/daily/grub/2014/07/16/16-ample-hills-gowanus-3.w245.h368.2x.jpg\n",
            "[!] Error:: No active exception to reraise\n",
            "[%] Downloading Image #27 from https://www.guinnessworldrecords.com/Images/Most-ice-cream-scoops-balanced-on-a-cone-header_tcm25-387618.jpg\n",
            "[%] File Downloaded !\n",
            "\n",
            "[%] Downloading Image #28 from http://farm4.staticflickr.com/3657/3363317318_b1f097dd29.jpg\n",
            "[Error]Invalid image, not saving http://farm4.staticflickr.com/3657/3363317318_b1f097dd29.jpg\n",
            "\n",
            "[!] Issue getting: http://farm4.staticflickr.com/3657/3363317318_b1f097dd29.jpg\n",
            "[!] Error:: No active exception to reraise\n",
            "[%] Downloading Image #28 from https://www.finewebstores.com/thumbnail.asp?file=assets/images/metalsigns/foodbeverage/98016-classic-99.jpg&amp;maxx=300&amp;maxy=0\n",
            "[%] File Downloaded !\n",
            "\n",
            "[%] Downloading Image #29 from https://www.benandjerry.com.au/files/live/sites/systemsite/files/scoop-shops/free-cone-day/2019/og images/FCD-2019-OGb-1200x630-AU.jpg\n",
            "[!] Issue getting: https://www.benandjerry.com.au/files/live/sites/systemsite/files/scoop-shops/free-cone-day/2019/og images/FCD-2019-OGb-1200x630-AU.jpg\n",
            "[!] Error:: URL can't contain control characters. '/files/live/sites/systemsite/files/scoop-shops/free-cone-day/2019/og images/FCD-2019-OGb-1200x630-AU.jpg' (found at least ' ')\n",
            "[%] Downloading Image #29 from https://i.pinimg.com/736x/bc/9f/95/bc9f9537ab77c67c16ec7ea54aaeae90.jpg\n",
            "[%] File Downloaded !\n",
            "\n",
            "[%] Downloading Image #30 from http://spoonssquared.com/wp-content/uploads/2014/07/Hold-The-Cone-Mini-Ice-Cream-Cones.jpg\n",
            "[!] Issue getting: http://spoonssquared.com/wp-content/uploads/2014/07/Hold-The-Cone-Mini-Ice-Cream-Cones.jpg\n",
            "[!] Error:: Remote end closed connection without response\n",
            "[%] Downloading Image #30 from https://thumbs.dreamstime.com/x/girl-water-ice-cream-licking-isolated-white-35359160.jpg\n",
            "[!] Issue getting: https://thumbs.dreamstime.com/x/girl-water-ice-cream-licking-isolated-white-35359160.jpg\n",
            "[!] Error:: HTTP Error 404: Not Found\n",
            "\n",
            "\n",
            "[!!]Indexing page: 5\n",
            "\n",
            "[%] Indexed 9 Images on Page 5.\n",
            "\n",
            "===============================================\n",
            "\n",
            "[%] Downloading Image #30 from https://c2.staticflickr.com/4/3357/4602700664_6d9473e26c_b.jpg\n",
            "[%] File Downloaded !\n",
            "\n",
            "\n",
            "\n",
            "[%] Done. Downloaded 30 images.\n",
            "\n",
            "===============================================\n",
            "\n"
          ],
          "name": "stdout"
        }
      ]
    },
    {
      "cell_type": "code",
      "metadata": {
        "colab": {
          "base_uri": "https://localhost:8080/"
        },
        "id": "89EwQMp0qAP3",
        "outputId": "fd7f8c67-8175-49b5-ea45-0355e3f73fbb"
      },
      "source": [
        "#preprocess data\n",
        "\n",
        "import os\n",
        "import matplotlib.pyplot as plt\n",
        "import numpy as np\n",
        "from skimage.io import imread\n",
        "from skimage.transform import resize\n",
        "\n",
        "target=[]\n",
        "images=[]\n",
        "flat_data=[]\n",
        "\n",
        "DATADIR='/content/images'\n",
        "CATEGORIES=['pretty sunflower','rugby ball leather','ice cream cone']\n",
        "\n",
        "for category in CATEGORIES:\n",
        "  class_num=CATEGORIES.index(category)\n",
        "  path=os.path.join(DATADIR,category)\n",
        "  for img in os.listdir(path):\n",
        "    img_array=imread(os.path.join(path,img))\n",
        "    img_resized=resize(img_array,(150,150,3))\n",
        "    flat_data.append(img_resized.flatten())\n",
        "    images.append(img_resized)\n",
        "    target.append(class_num)\n",
        "\n",
        "flat_data=np.array(flat_data)\n",
        "target=np.array(target)\n",
        "images=np.array(images)"
      ],
      "execution_count": 12,
      "outputs": [
        {
          "output_type": "stream",
          "text": [
            "time: 19.7 s (started: 2021-05-06 03:46:14 +00:00)\n"
          ],
          "name": "stdout"
        }
      ]
    },
    {
      "cell_type": "code",
      "metadata": {
        "colab": {
          "base_uri": "https://localhost:8080/"
        },
        "id": "q8RffaYAyQVY",
        "outputId": "6f640351-6304-482c-dbd7-7f7816f19f5f"
      },
      "source": [
        "#split data into training and testing\n",
        "\n",
        "from sklearn.model_selection import train_test_split\n",
        "x_train,x_test,y_train,y_test=train_test_split(flat_data,target,test_size=0.3,random_state=109)"
      ],
      "execution_count": 14,
      "outputs": [
        {
          "output_type": "stream",
          "text": [
            "time: 16.7 ms (started: 2021-05-06 03:53:35 +00:00)\n"
          ],
          "name": "stdout"
        }
      ]
    },
    {
      "cell_type": "code",
      "metadata": {
        "colab": {
          "base_uri": "https://localhost:8080/"
        },
        "id": "pvDOy4Ld3Z82",
        "outputId": "3e2e3ad7-5997-4622-9f08-4d2abe105b44"
      },
      "source": [
        "from sklearn.model_selection import GridSearchCV\n",
        "from sklearn import svm\n",
        "param_grid=[\n",
        "            {'C':[1,10,100,1000],'kernel':['linear']},\n",
        "            {'C':[1,10,100,1000],'gamma':[0.001,0.0001],'kernel':['rbf']},\n",
        "]\n",
        "\n",
        "svc=svm.SVC(probability=True)\n",
        "clf=GridSearchCV(svc,param_grid)\n",
        "clf.fit(x_train,y_train)"
      ],
      "execution_count": 16,
      "outputs": [
        {
          "output_type": "execute_result",
          "data": {
            "text/plain": [
              "GridSearchCV(cv=None, error_score=nan,\n",
              "             estimator=SVC(C=1.0, break_ties=False, cache_size=200,\n",
              "                           class_weight=None, coef0=0.0,\n",
              "                           decision_function_shape='ovr', degree=3,\n",
              "                           gamma='scale', kernel='rbf', max_iter=-1,\n",
              "                           probability=True, random_state=None, shrinking=True,\n",
              "                           tol=0.001, verbose=False),\n",
              "             iid='deprecated', n_jobs=None,\n",
              "             param_grid=[{'C': [1, 10, 100, 1000], 'kernel': ['linear']},\n",
              "                         {'C': [1, 10, 100, 1000], 'gamma': [0.001, 0.0001],\n",
              "                          'kernel': ['rbf']}],\n",
              "             pre_dispatch='2*n_jobs', refit=True, return_train_score=False,\n",
              "             scoring=None, verbose=0)"
            ]
          },
          "metadata": {
            "tags": []
          },
          "execution_count": 16
        },
        {
          "output_type": "stream",
          "text": [
            "time: 1min 32s (started: 2021-05-06 04:16:29 +00:00)\n"
          ],
          "name": "stdout"
        }
      ]
    },
    {
      "cell_type": "code",
      "metadata": {
        "colab": {
          "base_uri": "https://localhost:8080/"
        },
        "id": "401UpstO54lZ",
        "outputId": "c50aa9c6-6e93-445f-fdeb-424c7b13818c"
      },
      "source": [
        "y_pred=clf.predict(x_test)\n",
        "y_pred"
      ],
      "execution_count": 19,
      "outputs": [
        {
          "output_type": "execute_result",
          "data": {
            "text/plain": [
              "array([1, 0, 1, 1, 2, 1, 0, 1, 1, 0, 1, 0, 1, 2, 2, 1, 2, 1, 0, 1, 2, 2,\n",
              "       2, 0, 0, 0, 1])"
            ]
          },
          "metadata": {
            "tags": []
          },
          "execution_count": 19
        },
        {
          "output_type": "stream",
          "text": [
            "time: 128 ms (started: 2021-05-06 04:20:25 +00:00)\n"
          ],
          "name": "stdout"
        }
      ]
    },
    {
      "cell_type": "code",
      "metadata": {
        "colab": {
          "base_uri": "https://localhost:8080/"
        },
        "id": "FtfpfYUq6Aao",
        "outputId": "ffd049bf-347a-4476-d8da-f937f7809998"
      },
      "source": [
        "y_test"
      ],
      "execution_count": 20,
      "outputs": [
        {
          "output_type": "execute_result",
          "data": {
            "text/plain": [
              "array([1, 0, 1, 2, 2, 1, 0, 1, 1, 0, 1, 0, 1, 2, 2, 1, 2, 1, 0, 1, 2, 2,\n",
              "       2, 0, 0, 0, 1])"
            ]
          },
          "metadata": {
            "tags": []
          },
          "execution_count": 20
        },
        {
          "output_type": "stream",
          "text": [
            "time: 5.36 ms (started: 2021-05-06 04:20:36 +00:00)\n"
          ],
          "name": "stdout"
        }
      ]
    },
    {
      "cell_type": "code",
      "metadata": {
        "colab": {
          "base_uri": "https://localhost:8080/"
        },
        "id": "yRAzwZzg5kE5",
        "outputId": "fd3c5bb4-dacf-459b-a0ac-9ca1af057aa4"
      },
      "source": [
        "from sklearn.metrics import accuracy_score,confusion_matrix"
      ],
      "execution_count": 18,
      "outputs": [
        {
          "output_type": "stream",
          "text": [
            "time: 921 µs (started: 2021-05-06 04:19:28 +00:00)\n"
          ],
          "name": "stdout"
        }
      ]
    },
    {
      "cell_type": "code",
      "metadata": {
        "colab": {
          "base_uri": "https://localhost:8080/"
        },
        "id": "qQ_3uAeA6ETy",
        "outputId": "d879eb0d-66cc-4143-ce97-0eb58cf2e691"
      },
      "source": [
        "accuracy_score(y_pred,y_test)"
      ],
      "execution_count": 21,
      "outputs": [
        {
          "output_type": "execute_result",
          "data": {
            "text/plain": [
              "0.9629629629629629"
            ]
          },
          "metadata": {
            "tags": []
          },
          "execution_count": 21
        },
        {
          "output_type": "stream",
          "text": [
            "time: 6.91 ms (started: 2021-05-06 04:21:09 +00:00)\n"
          ],
          "name": "stdout"
        }
      ]
    },
    {
      "cell_type": "code",
      "metadata": {
        "colab": {
          "base_uri": "https://localhost:8080/"
        },
        "id": "wMr3yEov6MtS",
        "outputId": "c1464e5d-0656-4bd0-bf16-b64a3bb5a097"
      },
      "source": [
        "confusion_matrix(y_pred,y_test)"
      ],
      "execution_count": 22,
      "outputs": [
        {
          "output_type": "execute_result",
          "data": {
            "text/plain": [
              "array([[ 8,  0,  0],\n",
              "       [ 0, 11,  1],\n",
              "       [ 0,  0,  7]])"
            ]
          },
          "metadata": {
            "tags": []
          },
          "execution_count": 22
        },
        {
          "output_type": "stream",
          "text": [
            "time: 5.98 ms (started: 2021-05-06 04:21:37 +00:00)\n"
          ],
          "name": "stdout"
        }
      ]
    },
    {
      "cell_type": "code",
      "metadata": {
        "colab": {
          "base_uri": "https://localhost:8080/"
        },
        "id": "jK9rS8yP6WnC",
        "outputId": "78c5eb66-078b-417c-8e61-18d48c9c02f4"
      },
      "source": [
        "#save the model using pickle library\n",
        "\n",
        "import pickle\n",
        "pickle.dump(clf,open('img_model.p','wb'))"
      ],
      "execution_count": 23,
      "outputs": [
        {
          "output_type": "stream",
          "text": [
            "time: 30.2 ms (started: 2021-05-06 04:23:32 +00:00)\n"
          ],
          "name": "stdout"
        }
      ]
    },
    {
      "cell_type": "code",
      "metadata": {
        "colab": {
          "base_uri": "https://localhost:8080/"
        },
        "id": "t7ZBMmxo6455",
        "outputId": "f94f594d-f941-4868-8ed7-84dbbf7aec9c"
      },
      "source": [
        "model=pickle.load(open('img_model.p','rb'))"
      ],
      "execution_count": 24,
      "outputs": [
        {
          "output_type": "stream",
          "text": [
            "time: 16.7 ms (started: 2021-05-06 04:24:58 +00:00)\n"
          ],
          "name": "stdout"
        }
      ]
    },
    {
      "cell_type": "code",
      "metadata": {
        "id": "-XuwCz3a7DQR"
      },
      "source": [
        "#testing a brand new image\n",
        "\n",
        "flat_data=[]\n",
        "url=input('Enter your URL')\n",
        "img=imread(url)\n",
        "image_resized=resize(img,(150,150,3))\n",
        "flat_data.append(img_resized.flatten())\n",
        "flat_data=np.array(flat_data)\n",
        "print(img.shape)\n",
        "plt.imshow(img_resized)\n",
        "y_out=model.predict(flat_data)\n",
        "y_out=CATEGORIES[y_out[0]]\n",
        "print(f' PREDICTED OUTPUT : {y_out}')"
      ],
      "execution_count": null,
      "outputs": []
    }
  ]
}